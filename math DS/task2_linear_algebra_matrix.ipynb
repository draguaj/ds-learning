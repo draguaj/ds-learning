{
  "nbformat": 4,
  "nbformat_minor": 0,
  "metadata": {
    "colab": {
      "provenance": []
    },
    "kernelspec": {
      "name": "python3",
      "display_name": "Python 3"
    },
    "language_info": {
      "name": "python"
    }
  },
  "cells": [
    {
      "cell_type": "markdown",
      "source": [
        "# Уровень 0\n",
        "## Задание 1\n",
        "- Создайте матрицу 3 на 3, заполненную числами от 1 до 9\n",
        "- Прибавьте к ней матрицу с единицами на диагонале\n",
        "- Умножьте полученную матрицу на вектор (1, 2, 3)\n",
        "- Вычислить транспонированную матрицу A^T от полученной в результате прибавления матрицы\n",
        "- Посчитайте обратную матрицу к полученной в результате прибавления матрице"
      ],
      "metadata": {
        "id": "_NKhtdKzD73C"
      }
    },
    {
      "cell_type": "code",
      "execution_count": null,
      "metadata": {
        "id": "iFhV9XKxDxUT"
      },
      "outputs": [],
      "source": [
        "import numpy as np"
      ]
    },
    {
      "cell_type": "code",
      "source": [
        "A1 = np.array([[1,2,3], [4,5,6], [7,8,9]])\n",
        "A2 = np.eye(3)\n",
        "A3 = A1 + A2\n",
        "print(A3)"
      ],
      "metadata": {
        "colab": {
          "base_uri": "https://localhost:8080/"
        },
        "id": "MaTmvccPStMn",
        "outputId": "f35e3733-de45-4ae2-873e-3d7b06ead9a2"
      },
      "execution_count": null,
      "outputs": [
        {
          "output_type": "stream",
          "name": "stdout",
          "text": [
            "[[ 2.  2.  3.]\n",
            " [ 4.  6.  6.]\n",
            " [ 7.  8. 10.]]\n"
          ]
        }
      ]
    },
    {
      "cell_type": "code",
      "source": [
        "vector = np.array([1, 2, 3])\n",
        "res = np.dot(vector, A3)\n",
        "print(res)"
      ],
      "metadata": {
        "colab": {
          "base_uri": "https://localhost:8080/"
        },
        "id": "3mlExk3WTe8N",
        "outputId": "e9ba4c86-22a9-4116-ab77-e6931915287c"
      },
      "execution_count": null,
      "outputs": [
        {
          "output_type": "stream",
          "name": "stdout",
          "text": [
            "[31. 38. 45.]\n"
          ]
        }
      ]
    },
    {
      "cell_type": "code",
      "source": [
        "np.transpose(A3) # транспонированная матрица"
      ],
      "metadata": {
        "colab": {
          "base_uri": "https://localhost:8080/"
        },
        "id": "hxrHofA4UEYG",
        "outputId": "ea365e39-f94d-493a-99f6-812f35a6d902"
      },
      "execution_count": null,
      "outputs": [
        {
          "output_type": "execute_result",
          "data": {
            "text/plain": [
              "array([[ 2.,  4.,  7.],\n",
              "       [ 2.,  6.,  8.],\n",
              "       [ 3.,  6., 10.]])"
            ]
          },
          "metadata": {},
          "execution_count": 9
        }
      ]
    },
    {
      "cell_type": "code",
      "source": [
        "A4 = np.linalg.inv(A3) # обратная матрица\n",
        "print(A3@A4)"
      ],
      "metadata": {
        "colab": {
          "base_uri": "https://localhost:8080/"
        },
        "id": "SzI5dAvwUbxq",
        "outputId": "f882af51-70a1-479a-81f6-ffe05715c892"
      },
      "execution_count": null,
      "outputs": [
        {
          "output_type": "stream",
          "name": "stdout",
          "text": [
            "[[ 1.00000000e+00 -3.33066907e-16  6.66133815e-16]\n",
            " [-5.32907052e-15  1.00000000e+00  1.33226763e-15]\n",
            " [-1.77635684e-15 -1.11022302e-15  1.00000000e+00]]\n"
          ]
        }
      ]
    },
    {
      "cell_type": "markdown",
      "source": [
        "# Уровень 1\n",
        "## Задание 2\n",
        "Найдите собственные значения и собственные вектора матрицы:"
      ],
      "metadata": {
        "id": "MfNLEu-wEImH"
      }
    },
    {
      "cell_type": "code",
      "source": [
        "m = np.array([[2, 2],\n",
        "              [1, 3]])\n",
        "print(m)"
      ],
      "metadata": {
        "colab": {
          "base_uri": "https://localhost:8080/"
        },
        "id": "d4YIYzfFEOcl",
        "outputId": "e79f236d-11dc-4c99-d144-1b80ab120bf1"
      },
      "execution_count": null,
      "outputs": [
        {
          "output_type": "stream",
          "name": "stdout",
          "text": [
            "[[2 2]\n",
            " [1 3]]\n"
          ]
        }
      ]
    },
    {
      "cell_type": "code",
      "source": [
        "np.linalg.eig(m) # собственные значения и собственные вектора"
      ],
      "metadata": {
        "colab": {
          "base_uri": "https://localhost:8080/"
        },
        "id": "4hmfWBGJVZ7u",
        "outputId": "7bb4acbe-0c59-4a4e-d4cc-959322392745"
      },
      "execution_count": null,
      "outputs": [
        {
          "output_type": "execute_result",
          "data": {
            "text/plain": [
              "(array([1., 4.]),\n",
              " array([[-0.89442719, -0.70710678],\n",
              "        [ 0.4472136 , -0.70710678]]))"
            ]
          },
          "metadata": {},
          "execution_count": 13
        }
      ]
    },
    {
      "cell_type": "code",
      "source": [
        "res2 = np.linalg.eig(m)\n",
        "res3 = res2[1]\n",
        "res4 = np.transpose(res3) # транспоннируем для удобства\n",
        "print(res4[0]) # первый вектор\n",
        "print(res4[1]) # первый вектор"
      ],
      "metadata": {
        "colab": {
          "base_uri": "https://localhost:8080/"
        },
        "id": "KP_3iMsgV3SA",
        "outputId": "57fec1c8-10ce-4ae3-bb50-c30e91a161e6"
      },
      "execution_count": null,
      "outputs": [
        {
          "output_type": "stream",
          "name": "stdout",
          "text": [
            "[-0.89442719  0.4472136 ]\n",
            "[-0.70710678 -0.70710678]\n"
          ]
        }
      ]
    },
    {
      "cell_type": "markdown",
      "source": [
        "## Задание 3\n",
        "Придумайте матрицу, у которой определитель = 1, и все элементы не равны 0.\n",
        "\n",
        "P.S. Матрица должна быть ненулевой и размерностью не менее 2!"
      ],
      "metadata": {
        "id": "cOUJxuVuEO7-"
      }
    },
    {
      "cell_type": "code",
      "source": [
        "matrix1 = np.array([[1,0], [0, 1]])\n",
        "np.linalg.det(matrix1)"
      ],
      "metadata": {
        "colab": {
          "base_uri": "https://localhost:8080/"
        },
        "id": "nILVg6FKEuhY",
        "outputId": "5921cacc-2a49-4855-f07b-b3f3a9ebcf8a"
      },
      "execution_count": null,
      "outputs": [
        {
          "output_type": "execute_result",
          "data": {
            "text/plain": [
              "1.0"
            ]
          },
          "metadata": {},
          "execution_count": 17
        }
      ]
    }
  ]
}