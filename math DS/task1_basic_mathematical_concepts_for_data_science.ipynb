{
  "nbformat": 4,
  "nbformat_minor": 0,
  "metadata": {
    "colab": {
      "provenance": []
    },
    "kernelspec": {
      "name": "python3",
      "display_name": "Python 3"
    },
    "language_info": {
      "name": "python"
    }
  },
  "cells": [
    {
      "cell_type": "markdown",
      "source": [
        "# Уровень 0"
      ],
      "metadata": {
        "id": "dbdXrkuAgwqB"
      }
    },
    {
      "cell_type": "markdown",
      "source": [
        "Представим фильмы в виде бинарных векторов (numpy array) используя следующие признаки:\n",
        "\n",
        "[Комедия, Боевик, Исторический, Бред Питт, Бенедикт Камбербэтч, Квентин Тарантино]"
      ],
      "metadata": {
        "id": "63uq4VO3gt_N"
      }
    },
    {
      "cell_type": "code",
      "source": [
        "import numpy as np\n",
        "import sympy as sym"
      ],
      "metadata": {
        "id": "ULT4z03chtJg"
      },
      "execution_count": null,
      "outputs": []
    },
    {
      "cell_type": "code",
      "execution_count": null,
      "metadata": {
        "id": "BaL8EyiJgiRQ"
      },
      "outputs": [],
      "source": [
        "film_1 = np.array([0,0,0,0,1,0])      # Игра в имитацию\n",
        "film_2 = np.array([0,1,0,1,0,0])      # Ярость\n",
        "film_3 = np.array([0,0,1,1,1,0])      # 12 лет рабства\n",
        "film_4 = np.array([1,0,0,1,0,1])      # Однажды в Голливуде"
      ]
    },
    {
      "cell_type": "markdown",
      "source": [
        "## Задание 1"
      ],
      "metadata": {
        "id": "PdOaSwlvhUY9"
      }
    },
    {
      "cell_type": "markdown",
      "source": [
        "Найти угол между векторами-фильмами \"Ярость\" и \"12 лет рабства\". Результатом будет являться косинусная мера, которую можно использовать для определения похожести векторов."
      ],
      "metadata": {
        "id": "9Cg2Qj-ehiyW"
      }
    },
    {
      "cell_type": "code",
      "source": [
        "np.linalg.norm(film_2) # Евклидова норма"
      ],
      "metadata": {
        "colab": {
          "base_uri": "https://localhost:8080/"
        },
        "id": "7LI6nJaDhfZ6",
        "outputId": "b1b96f6a-2d3b-4a28-d624-3fe0b00e0b2e"
      },
      "execution_count": null,
      "outputs": [
        {
          "output_type": "execute_result",
          "data": {
            "text/plain": [
              "1.4142135623730951"
            ]
          },
          "metadata": {},
          "execution_count": 8
        }
      ]
    },
    {
      "cell_type": "code",
      "source": [
        "np.linalg.norm(film_3)"
      ],
      "metadata": {
        "colab": {
          "base_uri": "https://localhost:8080/"
        },
        "id": "BywAyU9JibmQ",
        "outputId": "aedce229-2d1b-4ef1-c30a-1838c56243fb"
      },
      "execution_count": null,
      "outputs": [
        {
          "output_type": "execute_result",
          "data": {
            "text/plain": [
              "1.7320508075688772"
            ]
          },
          "metadata": {},
          "execution_count": 9
        }
      ]
    },
    {
      "cell_type": "code",
      "source": [
        "np.linalg.norm(film_2) * np.linalg.norm(film_3)"
      ],
      "metadata": {
        "colab": {
          "base_uri": "https://localhost:8080/"
        },
        "id": "t7lsFfudik_I",
        "outputId": "1cb99dd8-8953-493f-e8c2-faf19b678ad1"
      },
      "execution_count": null,
      "outputs": [
        {
          "output_type": "execute_result",
          "data": {
            "text/plain": [
              "2.4494897427831783"
            ]
          },
          "metadata": {},
          "execution_count": 10
        }
      ]
    },
    {
      "cell_type": "code",
      "source": [
        "# Косинус угла между векторами\n",
        "\n",
        "np.arccos(np.dot(film_2, film_3) / (np.linalg.norm(film_2) * np.linalg.norm(film_3)))"
      ],
      "metadata": {
        "colab": {
          "base_uri": "https://localhost:8080/"
        },
        "id": "s6Pf52i7ivJx",
        "outputId": "ad8f8813-d647-41a9-b280-761cc67ce13f"
      },
      "execution_count": null,
      "outputs": [
        {
          "output_type": "execute_result",
          "data": {
            "text/plain": [
              "1.1502619915109316"
            ]
          },
          "metadata": {},
          "execution_count": 11
        }
      ]
    },
    {
      "cell_type": "code",
      "source": [
        "# Конвертация в градусы\n",
        "\n",
        "np.rad2deg(np.arccos(np.dot(film_2, film_3) / (np.linalg.norm(film_2) * np.linalg.norm(film_3))))"
      ],
      "metadata": {
        "colab": {
          "base_uri": "https://localhost:8080/"
        },
        "id": "bhTbJHRPjkMH",
        "outputId": "a6910189-6814-4d8a-8e25-e42fb854b618"
      },
      "execution_count": null,
      "outputs": [
        {
          "output_type": "execute_result",
          "data": {
            "text/plain": [
              "65.90515744788931"
            ]
          },
          "metadata": {},
          "execution_count": 12
        }
      ]
    },
    {
      "cell_type": "markdown",
      "source": [
        "# Уровень 1"
      ],
      "metadata": {
        "id": "sorb0yE1j6--"
      }
    },
    {
      "cell_type": "markdown",
      "source": [
        "## Задание 2\n",
        "\n",
        "Вычислить с помощью Python значение первой производной для функции 8x(x+3)^2\n",
        " в точке x=1"
      ],
      "metadata": {
        "id": "EJ7c8-CkkElS"
      }
    },
    {
      "cell_type": "code",
      "source": [
        "x = sym.Symbol('x')\n",
        "res = sym.diff((8 * x * (x + 3) ** 2), x)\n",
        "print(res)"
      ],
      "metadata": {
        "colab": {
          "base_uri": "https://localhost:8080/"
        },
        "id": "ZSvpUoLNj_qO",
        "outputId": "e57658c3-16e0-4e58-947a-021276d0dcc6"
      },
      "execution_count": null,
      "outputs": [
        {
          "output_type": "stream",
          "name": "stdout",
          "text": [
            "8*x*(2*x + 6) + 8*(x + 3)**2\n"
          ]
        }
      ]
    },
    {
      "cell_type": "code",
      "source": [
        "res.subs(x, 1)"
      ],
      "metadata": {
        "colab": {
          "base_uri": "https://localhost:8080/",
          "height": 37
        },
        "id": "-SV91kKAmLL-",
        "outputId": "daa1fc92-6aa8-45e0-e52b-8d45665107f4"
      },
      "execution_count": null,
      "outputs": [
        {
          "output_type": "execute_result",
          "data": {
            "text/plain": [
              "192"
            ],
            "text/latex": "$\\displaystyle 192$"
          },
          "metadata": {},
          "execution_count": 17
        }
      ]
    },
    {
      "cell_type": "markdown",
      "source": [
        "## Задание 3\n",
        "Объединить векторы фильмов в матрицу, где каждый вектор является строкой матрицы. Умножьте вектор [1,2,3,4] на полученную матрицу\n"
      ],
      "metadata": {
        "id": "igt4jTY8k4fM"
      }
    },
    {
      "cell_type": "code",
      "source": [
        "total_film = np.array([film_1, film_2, film_3, film_4])\n",
        "print(total_film)"
      ],
      "metadata": {
        "colab": {
          "base_uri": "https://localhost:8080/"
        },
        "id": "pyKui3Gmk9Ku",
        "outputId": "c0f8abe5-7155-4f64-e8eb-83f19a75ecf5"
      },
      "execution_count": null,
      "outputs": [
        {
          "output_type": "stream",
          "name": "stdout",
          "text": [
            "[[0 0 0 0 1 0]\n",
            " [0 1 0 1 0 0]\n",
            " [0 0 1 1 1 0]\n",
            " [1 0 0 1 0 1]]\n"
          ]
        }
      ]
    },
    {
      "cell_type": "code",
      "source": [
        "vector = np.array([1, 2, 3, 4])\n",
        "res2 = np.dot(vector, total_film)\n",
        "print(res2)"
      ],
      "metadata": {
        "colab": {
          "base_uri": "https://localhost:8080/"
        },
        "id": "1QsAc3Od9I-O",
        "outputId": "b9e27431-a824-4a30-a78a-a8b0c36d240a"
      },
      "execution_count": null,
      "outputs": [
        {
          "output_type": "stream",
          "name": "stdout",
          "text": [
            "[4 2 3 9 4 4]\n"
          ]
        }
      ]
    }
  ]
}